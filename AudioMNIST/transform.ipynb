{
 "cells": [
  {
   "cell_type": "code",
   "id": "initial_id",
   "metadata": {
    "collapsed": true,
    "ExecuteTime": {
     "end_time": "2024-10-01T12:54:31.963144Z",
     "start_time": "2024-10-01T12:54:30.851447Z"
    }
   },
   "source": [
    "import librosa.display\n",
    "from glob import glob\n",
    "from tqdm.notebook import tqdm\n",
    "import numpy as np\n",
    "from PIL import Image\n",
    "import json\n",
    "import matplotlib.pyplot as plt"
   ],
   "outputs": [],
   "execution_count": 1
  },
  {
   "metadata": {},
   "cell_type": "markdown",
   "source": "A script transforming the AudioMNIST-dataset (https://github.com/soerenab/AudioMNIST) into StyleGAN v3 compatible dataformat.",
   "id": "cb5ddafd724333a3"
  },
  {
   "metadata": {
    "ExecuteTime": {
     "end_time": "2024-10-01T12:54:35.921517Z",
     "start_time": "2024-10-01T12:54:35.582131Z"
    }
   },
   "cell_type": "code",
   "source": [
    "DIR = \"AudioMNIST\"\n",
    "files = glob(DIR + \"/**/*.wav\", recursive=True)\n",
    "n_fft = 2048\n",
    "hop_length = 128"
   ],
   "id": "20c37a11e92c082c",
   "outputs": [],
   "execution_count": 2
  },
  {
   "metadata": {
    "ExecuteTime": {
     "end_time": "2024-10-01T13:03:20.197911Z",
     "start_time": "2024-10-01T12:54:40.306316Z"
    }
   },
   "cell_type": "code",
   "source": [
    "labels = []\n",
    "shapes = []\n",
    "for file in tqdm(files):\n",
    "    signal, sr = librosa.load(file)  # Get signal and sample-rate\n",
    "    \n",
    "    \"\"\"Generate MEL-Spectrogram and transform it to db.\"\"\"\n",
    "    mel_signal = librosa.feature.melspectrogram(y=signal, sr=sr, window=\"hann\", hop_length=hop_length, n_fft=n_fft)\n",
    "    spectrogram = np.abs(mel_signal)\n",
    "    power_to_db = librosa.power_to_db(spectrogram, ref=np.max)\n",
    "    \n",
    "    \"\"\"Get class and file name elements.\"\"\"\n",
    "    file_name = file.split(\"/\")[-1].split(\".\")[0]\n",
    "    cl, sp, id = file_name.split(\"_\")\n",
    "    \n",
    "    \"\"\"Transform all images into shape 128x128. Pad if smaller, cut if too big.\"\"\"\n",
    "    h, w = mel_signal.shape\n",
    "    shapes.append(w)  # To see the distribution\n",
    "    assert h == 128, \"Something went wrong mel spectrogram should always be 128xM\"\n",
    "    padding = ((0,0), (0, 128-w))  # Only pad on right.\n",
    "    image_array = np.pad(power_to_db, padding) if w < 128 else power_to_db[:, :128]\n",
    "    pil_image = Image.fromarray(image_array.astype(\"uint8\"))\n",
    "    \n",
    "    \"\"\"Save image and label map.\"\"\"\n",
    "    rel_path = f\"transformed/{cl}_{sp}_{id}.png\"\n",
    "    save_path = f\"{DIR}/{rel_path}\"\n",
    "    pil_image.save(save_path)\n",
    "    labels.append([rel_path, int(cl)])\n",
    "\n",
    "\"\"\"Save dataset map with labels.\"\"\" \n",
    "with open(f\"{DIR}/dataset.json\", \"w\") as f:\n",
    "    elem = {\"labels\": labels}\n",
    "    json.dump(elem, f)"
   ],
   "id": "7663179622514e43",
   "outputs": [
    {
     "data": {
      "text/plain": [
       "  0%|          | 0/30000 [00:00<?, ?it/s]"
      ],
      "application/vnd.jupyter.widget-view+json": {
       "version_major": 2,
       "version_minor": 0,
       "model_id": "4432f0bde5c14387b8879c552e0d3f00"
      }
     },
     "metadata": {},
     "output_type": "display_data"
    }
   ],
   "execution_count": 3
  },
  {
   "metadata": {},
   "cell_type": "markdown",
   "source": "### Visualize some Metrics",
   "id": "284b641fcb5ec79e"
  },
  {
   "metadata": {
    "ExecuteTime": {
     "end_time": "2024-10-01T13:07:44.020130Z",
     "start_time": "2024-10-01T13:07:43.821560Z"
    }
   },
   "cell_type": "code",
   "source": [
    "shapes = np.array(shapes)\n",
    "plt.hist(shapes)\n",
    "print(f\"Average size: {np.mean(shapes):.2f}\")\n",
    "print(f\"Average padding size: {np.abs(np.mean(shapes[shapes < 128]-128)):.2f}\")\n",
    "print(f\"Average cutoff size: {np.mean(shapes[shapes > 128]-128):.2f}\")\n",
    "print(f\"Percentage of pads: {len(shapes[shapes < 128])/len(shapes):.2%}\")\n",
    "print(f\"Percentage of cutoffs: {len(shapes[shapes > 128])/len(shapes):.2%}\")"
   ],
   "id": "a3a36be3031d51dd",
   "outputs": [
    {
     "name": "stdout",
     "output_type": "stream",
     "text": [
      "Average size: 111.21\n",
      "Average padding size: 23.97\n",
      "Average cutoff size: 12.45\n",
      "Percentage of pads: 79.89%\n",
      "Percentage of cutoffs: 18.92%\n"
     ]
    },
    {
     "data": {
      "text/plain": [
       "<Figure size 640x480 with 1 Axes>"
      ],
      "image/png": "[encoded data removed]"
     },
     "metadata": {},
     "output_type": "display_data"
    }
   ],
   "execution_count": 8
  }
 ],
 "metadata": {
  "kernelspec": {
   "display_name": "Python 3",
   "language": "python",
   "name": "python3"
  },
  "language_info": {
   "codemirror_mode": {
    "name": "ipython",
    "version": 2
   },
   "file_extension": ".py",
   "mimetype": "text/x-python",
   "name": "python",
   "nbconvert_exporter": "python",
   "pygments_lexer": "ipython2",
   "version": "2.7.6"
  }
 },
 "nbformat": 4,
 "nbformat_minor": 5
}
